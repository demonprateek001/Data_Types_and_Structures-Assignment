{
  "nbformat": 4,
  "nbformat_minor": 0,
  "metadata": {
    "colab": {
      "provenance": []
    },
    "kernelspec": {
      "name": "python3",
      "display_name": "Python 3"
    },
    "language_info": {
      "name": "python"
    }
  },
  "cells": [
    {
      "cell_type": "markdown",
      "source": [
        "\n",
        "\n",
        "**Data Types and Structures Answers**\n",
        "\n",
        "\n",
        "---\n",
        "\n",
        "\n",
        "\n",
        "\n"
      ],
      "metadata": {
        "id": "_GNcolRZxGax"
      }
    },
    {
      "cell_type": "markdown",
      "source": [
        "1. What are data structures, and why are they important?\n",
        "  - Data structures are fundamental ways of organizing and storing data for efficient access and manipulation within computer programs. They are important because they enable efficient algorithms, improve code readability, and make data management more effective.\n",
        "2. Explain the difference between mutable and immutable data types with examples?\n",
        "  - Mutable data types are those that can be modified after their creation, while immutable data types cannot be changed once they are created. Lists and dictionaries are examples of mutable data types, where as strings and tuples are examples of immutable data types.\n",
        "3.  What are the main differences between lists and tuples in Python?\n",
        "  - The primary difference between lists and tuples in Python lies in their mutability. Lists are mutable (changeable), while tuples are immutable (unchangeable). Lists are generally faster to modify (adding or removing elements), whereas tuples offer better performance for operations where data integrity is crucial.\n",
        "4. Describe how dictionaries store data.\n",
        "  - Dictionaries, a fundamental data structure in many programming languages, store data in a key-value format. They use a unique key to associate with a value, allowing for efficient retrieval of data based on that key.\n",
        "5.  Why might you use a set instead of a list in Python?\n",
        "  - Sets and lists are both used to store collections of items in Python, but they have key differences that make them suitable for different tasks. Here's why you might use a set instead of a list:\n",
        "6. What is a string in Python, and how is it different from a list?\n",
        "   - In Python, a string is an immutable sequence of characters enclosed in single or double quotes, representing text. A list is a mutable sequence of items, which can be of any data type, and is enclosed in square brackets [ ]\n",
        "7. How do tuples ensure data integrity in Python?\n",
        "  - Tuples in Python ensure data integrity primarily through their immutability. Once a tuple is created, its elements cannot be modified, added, or removed. This characteristic is crucial for maintaining the consistency and reliability of data, especially in scenarios where accidental changes could lead to errors or inconsistencies.\n",
        "8. What is a hash table, and how does it relate to dictionaries in Python?\n",
        "   - A hash table is a data structure that stores key-value pairs. It uses a hash function to calculate an index for each key, which is then used to store and retrieve the corresponding value. This allows for very fast lookups, insertions, and deletions on average, making hash tables a popular choice for implementing dictionaries.\n",
        "9. Can lists contain different data types in Python?\n",
        "  - Yes, lists in Python can contain elements of different data types. This means you can create a single list that holds integers, floats, strings, booleans, and even other lists or dictionaries.\n",
        "10. Explain why strings are immutable in Python.\n",
        "  - In Python, strings are immutable, meaning that once a string is created, its value cannot be changed. Any operation that appears to modify a string actually creates a new string object. This design choice has several important implications.\n",
        "11. What advantages do dictionaries offer over lists for certain tasks?\n",
        "  - Dictionaries excel over lists for tasks involving efficient data retrieval and storage, especially when dealing with large datasets or when the order of elements is not crucial. Dictionaries offer faster lookup times, dynamic size adjustments, and built-in methods for manipulation, making them suitable for various applications, including mapping relationships between data.\n",
        "12. Describe a scenario where using a tuple would be preferable over a list.\n",
        "  - A tuple would be preferable over a list in a scenario where the data's integrity and immutability are crucial, and you want to ensure that the data remains constant after it's created. For instance, representing geographical coordinates as a tuple (longitude, latitude) is more appropriate than using a list.\n",
        "13. How do sets handle duplicate values in Python?\n",
        "  - In Python, sets are designed to store only unique elements. When you attempt to add a duplicate value to a set, it simply ignores the duplicate and does not add it to the set. This behavior makes sets useful for removing duplicate values from a collection.\n",
        "14. How does the “in” keyword work differently for lists and dictionaries?\n",
        "  - The in keyword in Python operates differently on lists and dictionaries. For lists, it checks if a given value is present within the list's elements, returning True if found and False otherwise. For dictionaries, in checks if a given value exists as a key within the dictionary, not its value.\n",
        "15. Can you modify the elements of a tuple? Explain why or why not?\n",
        "  - No, you cannot directly modify the elements of a tuple in Python because tuples are immutable. This means that once a tuple is created, its elements cannot be changed, added, or removed. If you try to modify a tuple, it will throw a TypeError.\n",
        "16. What is a nested dictionary, and give an example of its use case?\n",
        "  - A nested dictionary in Python is a dictionary where the values are themselves dictionaries. This allows you to create hierarchical data structures, grouping related data within a single dictionary.\n",
        "\n",
        "  + **Use Case Example:**\n",
        "\n",
        "  - Consider representing student data in a Python dictionary. You could use a nested dictionary to organize information about students, including their name, course enrollment, and grades.\n",
        "17. Describe the time complexity of accessing elements in a dictionary.\n",
        "  - Accessing an element in a dictionary using a key generally has an average time complexity of O(1), meaning it's constant time. However, in the worst-case scenario, it can degrade to O(n), where n is the number of key-value pairs in the dictionary. This worst-case scenario is less common and typically occurs when there are numerous collisions in the hash table, making the access more like a linear search.\n",
        "18. In what situations are lists preferred over dictionaries?\n",
        "  - Lists are often preferred over dictionaries when order is crucial, when dealing with potentially changing data, and when performing ordered operations like sorting. Dictionaries are more efficient for quick lookups, storing configurations, or caches, while lists are better suited for ordered collections and sequence operations like maintaining a stack or queue.\n",
        "19. Why are dictionaries considered unordered, and how does that affect data retrieval?\n",
        "  - Dictionaries in Python are unordered collections because they are implemented using hash tables, which prioritize efficient data lookup over maintaining insertion order. This means that when retrieving data, the order of key-value pairs returned does not necessarily match the order in which they were inserted.\n",
        "20. Explain the difference between a list and a dictionary in terms of data retrieval.\n",
        "  - In terms of data retrieval, a dictionary (or hash map) offers significantly faster lookup times than a list (or array). Dictionaries use keys for access, allowing for near-instant retrieval, while lists rely on indexing, requiring a search through elements."
      ],
      "metadata": {
        "id": "XrOt04KtgpXa"
      }
    },
    {
      "cell_type": "markdown",
      "source": [
        " **Practical Answers**\n",
        "\n",
        "---\n",
        "\n",
        "\n",
        "\n",
        "\n"
      ],
      "metadata": {
        "id": "QotzxkPavRvv"
      }
    },
    {
      "cell_type": "code",
      "source": [
        "1 #Write a code to create a string with your name and print it\n",
        "\n",
        "string= \"prateek pal\"\n",
        "print(string)"
      ],
      "metadata": {
        "colab": {
          "base_uri": "https://localhost:8080/"
        },
        "id": "wg5Y0Dqr_-HG",
        "outputId": "4cbf47b1-dbcd-4252-f1f2-aa0e78595d70"
      },
      "execution_count": null,
      "outputs": [
        {
          "output_type": "stream",
          "name": "stdout",
          "text": [
            "prateek pal\n"
          ]
        }
      ]
    },
    {
      "cell_type": "code",
      "source": [
        "2 #Write a code to find the length of the string \"Hello World\"\n",
        "string = \"Hello World\"\n",
        "length = len(string)\n",
        "print(length)"
      ],
      "metadata": {
        "colab": {
          "base_uri": "https://localhost:8080/"
        },
        "id": "w_c0ASPvFaAe",
        "outputId": "dded350a-b002-486c-fff7-9b52fb2f7d6a"
      },
      "execution_count": null,
      "outputs": [
        {
          "output_type": "stream",
          "name": "stdout",
          "text": [
            "11\n"
          ]
        }
      ]
    },
    {
      "cell_type": "code",
      "source": [
        "3 #Write a code to slice the first 3 characters from the string \"Python Programming\"\n",
        "string = \"Python Programming\"\n",
        "sliced_string = string[:3]\n",
        "print(sliced_string)"
      ],
      "metadata": {
        "colab": {
          "base_uri": "https://localhost:8080/"
        },
        "id": "aWB7vmGwH0SG",
        "outputId": "a8c15073-5053-4de9-8714-69a5fc3681aa"
      },
      "execution_count": null,
      "outputs": [
        {
          "output_type": "stream",
          "name": "stdout",
          "text": [
            "Pyt\n"
          ]
        }
      ]
    },
    {
      "cell_type": "code",
      "source": [
        "4 #Write a code to convert the string \"hello\" to uppercase\n",
        "text = \"hello\"\n",
        "uppercase_text = text.upper()\n",
        "print(uppercase_text) # Output: HELLO"
      ],
      "metadata": {
        "colab": {
          "base_uri": "https://localhost:8080/"
        },
        "id": "Piu4NgAbIH79",
        "outputId": "22b7ba6c-ed15-4ce0-c135-980b8dca7ef3"
      },
      "execution_count": null,
      "outputs": [
        {
          "output_type": "stream",
          "name": "stdout",
          "text": [
            "HELLO\n"
          ]
        }
      ]
    },
    {
      "cell_type": "code",
      "source": [
        "5 #Write a code to replace the word \"apple\" with \"orange\" in the string \"I like apple\"\n",
        "apple = \"i like apple\"\n",
        "apple.replace(\"apple\",\"orange\")\n"
      ],
      "metadata": {
        "colab": {
          "base_uri": "https://localhost:8080/",
          "height": 35
        },
        "id": "knK-_vpbI6nQ",
        "outputId": "c9b59a9d-9812-429f-e4cb-01c60bb19b82"
      },
      "execution_count": null,
      "outputs": [
        {
          "output_type": "execute_result",
          "data": {
            "text/plain": [
              "'i like orange'"
            ],
            "application/vnd.google.colaboratory.intrinsic+json": {
              "type": "string"
            }
          },
          "metadata": {},
          "execution_count": 12
        }
      ]
    },
    {
      "cell_type": "code",
      "source": [
        "6 #Write a code to create a list with numbers 1 to 5 and print it\n",
        "r1 = 1\n",
        "r2 = 5\n",
        "\n",
        "li = list(range(r1,r2))\n",
        "print(li)\n",
        "\n",
        "\n"
      ],
      "metadata": {
        "colab": {
          "base_uri": "https://localhost:8080/"
        },
        "id": "aFexFkKqQByQ",
        "outputId": "1cc5e7ce-9f0d-44d4-a327-bb4c40df9937"
      },
      "execution_count": null,
      "outputs": [
        {
          "output_type": "stream",
          "name": "stdout",
          "text": [
            "[1, 2, 3, 4]\n"
          ]
        }
      ]
    },
    {
      "cell_type": "code",
      "source": [
        "7 #Write a code to append the number 10 to the list [1, 2, 3, 4]\n",
        "my_list = [1, 2, 3, 4]\n",
        "my_list.append(10)\n",
        "print(my_list)  # Output: [1, 2, 3, 4, 10]"
      ],
      "metadata": {
        "colab": {
          "base_uri": "https://localhost:8080/"
        },
        "id": "kG2SF8wTVnY1",
        "outputId": "d5fe045f-98cd-4ee6-90c1-a7a51e3a8b53"
      },
      "execution_count": null,
      "outputs": [
        {
          "output_type": "stream",
          "name": "stdout",
          "text": [
            "[1, 2, 3, 4, 10]\n"
          ]
        }
      ]
    },
    {
      "cell_type": "code",
      "source": [
        "8 # Write a code to remove the number 3 from the list [1, 2, 3, 4, 5]\n",
        "my_list = [1, 2, 3, 4, 5]\n",
        "my_list.remove(3)\n",
        "print(my_list)"
      ],
      "metadata": {
        "colab": {
          "base_uri": "https://localhost:8080/"
        },
        "id": "dg8-iXh4WGaZ",
        "outputId": "1a4c17d2-a193-4900-f691-8cc011c319b1"
      },
      "execution_count": null,
      "outputs": [
        {
          "output_type": "stream",
          "name": "stdout",
          "text": [
            "[1, 2, 4, 5]\n"
          ]
        }
      ]
    },
    {
      "cell_type": "code",
      "source": [
        "9 #Write a code to access the second element in the list ['a', 'b', 'c', 'd']\n",
        "my_list = ['a', 'b', 'c', 'd']\n",
        "second_element = my_list[1]\n",
        "print(second_element)"
      ],
      "metadata": {
        "colab": {
          "base_uri": "https://localhost:8080/"
        },
        "id": "YvcBMC2jWvKB",
        "outputId": "b4b33d96-e408-474a-bef6-c0f504996145"
      },
      "execution_count": null,
      "outputs": [
        {
          "output_type": "stream",
          "name": "stdout",
          "text": [
            "b\n"
          ]
        }
      ]
    },
    {
      "cell_type": "code",
      "source": [
        "10 #Write a code to reverse the list [10, 20, 30, 40, 50].\n",
        "a = [10, 20, 30, 40, 50]\n",
        "\n",
        "\n",
        "a.reverse()\n",
        "print(a)\n"
      ],
      "metadata": {
        "colab": {
          "base_uri": "https://localhost:8080/"
        },
        "id": "q83BXO9LW_Dz",
        "outputId": "1ef57017-7067-4f6e-971d-e8a8d40add42"
      },
      "execution_count": null,
      "outputs": [
        {
          "output_type": "stream",
          "name": "stdout",
          "text": [
            "[50, 40, 30, 20, 10]\n"
          ]
        }
      ]
    },
    {
      "cell_type": "code",
      "source": [
        "11 # Write a code to create a tuple with the elements 100, 200, 300 and print it.\n",
        "\n",
        "my_tuple = (100, 200, 300)\n",
        "\n",
        "print(my_tuple)"
      ],
      "metadata": {
        "colab": {
          "base_uri": "https://localhost:8080/"
        },
        "id": "FK-01CkJY949",
        "outputId": "541a1075-5911-42ca-8ff0-597f1651ecbb"
      },
      "execution_count": null,
      "outputs": [
        {
          "output_type": "stream",
          "name": "stdout",
          "text": [
            "(100, 200, 300)\n"
          ]
        }
      ]
    },
    {
      "cell_type": "code",
      "source": [
        "12 #Write a code to access the second-to-last element of the tuple ('red', 'green', 'blue', 'yellow')\n",
        "my_tuple = ('red', 'green', 'blue', 'yellow')\n",
        "second_to_last = my_tuple[-2]\n",
        "print(second_to_last)"
      ],
      "metadata": {
        "colab": {
          "base_uri": "https://localhost:8080/"
        },
        "id": "2A6rKN1SZP1g",
        "outputId": "85149e14-dc30-4c6a-a74a-a5a95d66b060"
      },
      "execution_count": null,
      "outputs": [
        {
          "output_type": "stream",
          "name": "stdout",
          "text": [
            "blue\n"
          ]
        }
      ]
    },
    {
      "cell_type": "code",
      "source": [
        "13 # Write a code to find the minimum number in the tuple (10, 20, 5, 15).\n",
        "my_tuple = (10, 20, 5, 15)\n",
        "min_number = min(my_tuple)\n",
        "print(min_number)"
      ],
      "metadata": {
        "colab": {
          "base_uri": "https://localhost:8080/"
        },
        "id": "niUoVxbnb61x",
        "outputId": "b74131ec-7165-45ee-f286-2027318cd7e1"
      },
      "execution_count": null,
      "outputs": [
        {
          "output_type": "stream",
          "name": "stdout",
          "text": [
            "5\n"
          ]
        }
      ]
    },
    {
      "cell_type": "code",
      "source": [
        "14 #. Write a code to find the index of the element \"cat\" in the tuple ('dog', 'cat', 'rabbit').\n",
        "tuple = ('dog', 'cat', 'rabbit')\n",
        "tuple.index(\"cat\")\n"
      ],
      "metadata": {
        "colab": {
          "base_uri": "https://localhost:8080/"
        },
        "id": "o2e20OKlea6L",
        "outputId": "b6a07db8-5434-4ed4-d485-36e59c2a5274"
      },
      "execution_count": null,
      "outputs": [
        {
          "output_type": "execute_result",
          "data": {
            "text/plain": [
              "1"
            ]
          },
          "metadata": {},
          "execution_count": 46
        }
      ]
    },
    {
      "cell_type": "code",
      "source": [
        "15 # Write a code to create a tuple containing three different fruits and check if \"kiwi\" is in it.\n",
        "tuple = (\"banana\", \"cherry\", \"apple\")\n",
        "print(\"kiwi\")"
      ],
      "metadata": {
        "colab": {
          "base_uri": "https://localhost:8080/"
        },
        "id": "AK-RcPW7hCFd",
        "outputId": "c23d7439-e4d0-4385-dd4b-c36343f70657"
      },
      "execution_count": null,
      "outputs": [
        {
          "output_type": "stream",
          "name": "stdout",
          "text": [
            "kiwi\n"
          ]
        }
      ]
    },
    {
      "cell_type": "code",
      "source": [
        "16 # Write a code to create a set with the elements 'a', 'b', 'c' and print it.\n",
        "set1 = {'a', 'b', 'c'}\n",
        "print(set1)"
      ],
      "metadata": {
        "colab": {
          "base_uri": "https://localhost:8080/"
        },
        "id": "SmlMjeu8kDEb",
        "outputId": "7cf10696-6ffb-44ed-c16a-fc6d7546cfea"
      },
      "execution_count": null,
      "outputs": [
        {
          "output_type": "stream",
          "name": "stdout",
          "text": [
            "{'b', 'c', 'a'}\n"
          ]
        }
      ]
    },
    {
      "cell_type": "code",
      "source": [
        "17 #Write a code to clear all elements from the set {1, 2, 3, 4, 5}.\n",
        "set = {1, 2, 3, 4, 5}\n",
        "set.clear()\n",
        "print(set)"
      ],
      "metadata": {
        "colab": {
          "base_uri": "https://localhost:8080/"
        },
        "id": "O--0kelilIDO",
        "outputId": "20ac1447-5980-4ae8-8239-4d59f3d871eb"
      },
      "execution_count": null,
      "outputs": [
        {
          "output_type": "stream",
          "name": "stdout",
          "text": [
            "set()\n"
          ]
        }
      ]
    },
    {
      "cell_type": "code",
      "source": [
        "18 #Write a code to remove the element 4 from the set {1, 2, 3, 4}\n",
        "\n",
        "set = {1, 2, 3, 4}\n",
        "set.remove(4)\n",
        "print(set)"
      ],
      "metadata": {
        "colab": {
          "base_uri": "https://localhost:8080/"
        },
        "id": "dF0WzmBiliSd",
        "outputId": "663c5b89-56fb-4eab-d7d1-210ef3c27816"
      },
      "execution_count": null,
      "outputs": [
        {
          "output_type": "stream",
          "name": "stdout",
          "text": [
            "{1, 2, 3}\n"
          ]
        }
      ]
    },
    {
      "cell_type": "code",
      "source": [
        "19 #Write a code to find the union of two sets {1, 2, 3} and {3, 4, 5}.\n",
        "set1 = {1, 2, 3}\n",
        "set2 = {3, 4, 5}\n",
        "\n",
        "union_set = set1.union(set2)\n",
        "\n",
        "print(union_set)"
      ],
      "metadata": {
        "colab": {
          "base_uri": "https://localhost:8080/"
        },
        "id": "lCqYpYbAnXPt",
        "outputId": "f9412bb7-fc71-49bc-9941-c39d516d4dc4"
      },
      "execution_count": null,
      "outputs": [
        {
          "output_type": "stream",
          "name": "stdout",
          "text": [
            "{1, 2, 3, 4, 5}\n"
          ]
        }
      ]
    },
    {
      "cell_type": "code",
      "source": [
        "20 #Write a code to find the intersection of two sets {1, 2, 3} and {2, 3, 4}\n",
        "\n",
        "\n",
        "set1 = {1, 2, 3}\n",
        "set2 = {2, 3, 4}\n",
        "result =  intersection(set1,set2)\n",
        "print(result)"
      ],
      "metadata": {
        "colab": {
          "base_uri": "https://localhost:8080/"
        },
        "id": "x7uv2WFAps8v",
        "outputId": "50bf192d-7fe9-42fe-9922-d5167c0b52f7"
      },
      "execution_count": null,
      "outputs": [
        {
          "output_type": "stream",
          "name": "stdout",
          "text": [
            "{2, 3}\n"
          ]
        }
      ]
    },
    {
      "cell_type": "code",
      "source": [
        " 21.#Write a code to create a dictionary with the keys \"name\", \"age\", and \"city\", and print it.\n",
        " # Creating the dictionary\n",
        "person = {\n",
        "    \"name\": \"John Doe\",\n",
        "    \"age\": 30,\n",
        "    \"city\": \"New York\"\n",
        "}\n",
        "\n",
        "# Printing the dictionary\n",
        "print(person)\n"
      ],
      "metadata": {
        "colab": {
          "base_uri": "https://localhost:8080/"
        },
        "id": "ZZoh7bjyxLsa",
        "outputId": "5a564fa9-8390-47b1-d7b0-5ebfdd2eb332"
      },
      "execution_count": 15,
      "outputs": [
        {
          "output_type": "stream",
          "name": "stdout",
          "text": [
            "{'name': 'John Doe', 'age': 30, 'city': 'New York'}\n"
          ]
        }
      ]
    },
    {
      "cell_type": "code",
      "source": [
        " 22. #Write a code to add a new key-value pair \"country\": \"USA\" to the dictionary {'name': 'John', 'age': 25}.\n",
        "\n",
        " # Original dictionary\n",
        "person = {\"name\": \"John\", \"age\": 25}\n",
        "\n",
        "# Adding a new key-value pair\n",
        "person[\"country\"] = \"USA\"\n",
        "\n",
        "# Printing the updated dictionary\n",
        "print(person)\n",
        "\n"
      ],
      "metadata": {
        "colab": {
          "base_uri": "https://localhost:8080/"
        },
        "id": "1DUOxsLUw6kv",
        "outputId": "50f1d999-3c5f-46ed-ce1b-dc400c5c343f"
      },
      "execution_count": 14,
      "outputs": [
        {
          "output_type": "stream",
          "name": "stdout",
          "text": [
            "{'name': 'John', 'age': 25, 'country': 'USA'}\n"
          ]
        }
      ]
    },
    {
      "cell_type": "code",
      "source": [
        "23 #Write a code to access the value associated with the key \"name\" in the dictionary {'name': 'Alice', 'age': 30}\n",
        "my_dict = {'name': 'Alice', 'age': 30}\n",
        "name_value = my_dict['name']\n",
        "print(name_value)\n"
      ],
      "metadata": {
        "colab": {
          "base_uri": "https://localhost:8080/"
        },
        "id": "ERBFDz5I1qIC",
        "outputId": "66416d39-79fa-468b-a1ed-807b091aadeb"
      },
      "execution_count": null,
      "outputs": [
        {
          "output_type": "stream",
          "name": "stdout",
          "text": [
            "Alice\n"
          ]
        }
      ]
    },
    {
      "cell_type": "code",
      "source": [
        " 24. #Write a code to remove the key \"age\" from the dictionary {'name': 'Bob', 'age': 22, 'city': 'New York'}.\n",
        " # Initial dictionary\n",
        "person = {\"name\": \"bob\", \"age\": 22, \"city\": \"new york\"}\n",
        "\n",
        "# Remove the key 'age'\n",
        "person.pop(\"age\", None)  # Using pop with a default value to avoid KeyError if 'age' doesn't exist\n",
        "\n",
        "# Print the updated dictionary\n",
        "print(person)\n"
      ],
      "metadata": {
        "colab": {
          "base_uri": "https://localhost:8080/"
        },
        "id": "X6h69Ob5wQGT",
        "outputId": "5cd40bd3-6597-47fa-cf94-6de1c0d17872"
      },
      "execution_count": 13,
      "outputs": [
        {
          "output_type": "stream",
          "name": "stdout",
          "text": [
            "{'name': 'bob', 'city': 'new york'}\n"
          ]
        }
      ]
    },
    {
      "cell_type": "code",
      "source": [
        "25 #Write a code to check if the key \"city\" exists in the dictionary {'name': 'Alice', 'city': 'Paris'}.\n",
        "# Define the dictionary\n",
        "alice = {\"name\": \"Alice\", \"city\": \"Paris\"}\n",
        "\n",
        "# Check if the key 'city' exists\n",
        "if \"city\" in alice:\n",
        "    print(\"The key 'city' exists in the dictionary.\")\n",
        "else:\n",
        "    print(\"The key 'city' does not exist in the dictionary.\")\n"
      ],
      "metadata": {
        "colab": {
          "base_uri": "https://localhost:8080/"
        },
        "id": "0EluelmYwCiV",
        "outputId": "4e2914b2-3f02-47ba-a6c9-bfcf87ef256a"
      },
      "execution_count": 12,
      "outputs": [
        {
          "output_type": "stream",
          "name": "stdout",
          "text": [
            "The key 'city' exists in the dictionary.\n"
          ]
        }
      ]
    },
    {
      "cell_type": "code",
      "source": [
        "26 #Write a code to create a list, a tuple, and a dictionary, and print them all.\n",
        "# Creating a list\n",
        "my_list = [1, 2, 3, 4, 5]\n",
        "\n",
        "# Creating a tuple\n",
        "my_tuple = ('apple', 'banana', 'cherry')\n",
        "\n",
        "# Creating a dictionary\n",
        "my_dict = {'name': 'John', 'age': 25, 'city': 'Mainpuri'}\n",
        "\n",
        "# Printing them all\n",
        "print(\"List:\", my_list)\n",
        "print(\"Tuple:\", my_tuple)\n",
        "print(\"Dictionary:\", my_dict)\n",
        "\n"
      ],
      "metadata": {
        "colab": {
          "base_uri": "https://localhost:8080/"
        },
        "id": "ADGP07K7547R",
        "outputId": "3b021559-476a-4115-e8de-6570d221cc65"
      },
      "execution_count": 9,
      "outputs": [
        {
          "output_type": "stream",
          "name": "stdout",
          "text": [
            "List: [1, 2, 3, 4, 5]\n",
            "Tuple: ('apple', 'banana', 'cherry')\n",
            "Dictionary: {'name': 'John', 'age': 25, 'city': 'Mainpuri'}\n"
          ]
        }
      ]
    },
    {
      "cell_type": "code",
      "source": [
        "27 Write a code to create a list of 5 random numbers between 1 and 100, sort it in ascending order, and print the  result.(replaced)\n",
        "import random\n",
        "\n",
        "# Generate a list of 5 random numbers between 1 and 100\n",
        "random_numbers = [random.randint(1, 100) for _ in range(5)]\n",
        "\n",
        "# Sort the list in ascending order\n",
        "random_numbers.sort()\n",
        "\n",
        "# Print the sorted list\n",
        "print(\"Sorted list:\", random_numbers)\n",
        "\n"
      ],
      "metadata": {
        "colab": {
          "base_uri": "https://localhost:8080/"
        },
        "id": "wORg8zPTtlR0",
        "outputId": "1d2353ed-2e97-4cb6-900a-a439f2630bd2"
      },
      "execution_count": 6,
      "outputs": [
        {
          "output_type": "stream",
          "name": "stdout",
          "text": [
            "Sorted list: [37, 59, 59, 72, 82]\n"
          ]
        }
      ]
    },
    {
      "cell_type": "code",
      "source": [
        "28. #Write a code to create a list with strings and print the element at the third index.\n",
        "# Create a list with strings\n",
        "my_list = [\"apple\", \"banana\", \"cherry\", \"date\", \"elderberry\"]\n",
        "\n",
        "# Print the element at the third index\n",
        "print(\"Element at the third index:\", my_list[3])\n"
      ],
      "metadata": {
        "colab": {
          "base_uri": "https://localhost:8080/"
        },
        "id": "u8loCv40tFlf",
        "outputId": "51561391-03d9-4598-b997-1a86fd7bf1b9"
      },
      "execution_count": 4,
      "outputs": [
        {
          "output_type": "stream",
          "name": "stdout",
          "text": [
            "Element at the third index: date\n"
          ]
        }
      ]
    },
    {
      "cell_type": "code",
      "source": [
        " 29 #Write a code to combine two dictionaries into one and print the result.\n",
        "# Define two dictionaries\n",
        "dict1 = {'a': 1, 'b': 2, 'c': 3}\n",
        "dict2 = {'d': 4, 'e': 5, 'f': 6}\n",
        "\n",
        "# Combine the dictionaries using dictionary unpacking\n",
        "combined_dict = {**dict1, **dict2}\n",
        "\n",
        "# Print the result\n",
        "print(\"Combined Dictionary:\", combined_dict)\n",
        "\n"
      ],
      "metadata": {
        "colab": {
          "base_uri": "https://localhost:8080/"
        },
        "id": "II7IiLp1smMW",
        "outputId": "5116e28e-fc93-4696-a1e2-f4dc0828d9ba"
      },
      "execution_count": 3,
      "outputs": [
        {
          "output_type": "stream",
          "name": "stdout",
          "text": [
            "Combined Dictionary: {'a': 1, 'b': 2, 'c': 3, 'd': 4, 'e': 5, 'f': 6}\n"
          ]
        }
      ]
    },
    {
      "cell_type": "code",
      "source": [
        "30 #Write a code to convert a list of strings into a set.\n",
        "string_list = [\"apple\", \"banana\", \"cherry\", \"apple\", \"banana\"]\n",
        "\n",
        "\n",
        "string_set = set(string_list)\n",
        "\n",
        "\n",
        "print(string_set)\n"
      ],
      "metadata": {
        "colab": {
          "base_uri": "https://localhost:8080/"
        },
        "id": "dZKquoNesMIk",
        "outputId": "d86452d8-fce6-42c7-d805-6b41bf48f06a"
      },
      "execution_count": 1,
      "outputs": [
        {
          "output_type": "stream",
          "name": "stdout",
          "text": [
            "{'banana', 'cherry', 'apple'}\n"
          ]
        }
      ]
    }
  ]
}